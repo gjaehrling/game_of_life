{
 "cells": [
  {
   "attachments": {},
   "cell_type": "markdown",
   "id": "f20dfc75-1042-4aa3-a01b-df7825de2472",
   "metadata": {},
   "source": [
    "# John Conway: Game of Life\n",
    "Notebook-based implementation using ipycanvas"
   ]
  },
  {
   "cell_type": "code",
   "execution_count": 1,
   "id": "6f4b80bb-35c9-4bc5-9cad-541a459eacd0",
   "metadata": {
    "jupyter": {
     "source_hidden": true
    }
   },
   "outputs": [],
   "source": [
    "import copy\n",
    "from ipycanvas import Canvas, hold_canvas\n",
    "from time import sleep\n",
    "from ipywidgets import widgets\n",
    "from IPython.display import display"
   ]
  },
  {
   "cell_type": "markdown",
   "id": "3030d8b0-846f-48ab-a1e5-1964e6b04ac7",
   "metadata": {},
   "source": [
    "### Instantiate variables and define the initial states:"
   ]
  },
  {
   "cell_type": "code",
   "execution_count": 17,
   "id": "1340c973-1db9-45c4-8966-9efc7aa8f495",
   "metadata": {
    "jupyter": {
     "source_hidden": true
    }
   },
   "outputs": [
    {
     "data": {
      "application/vnd.jupyter.widget-view+json": {
       "model_id": "17fbf6b5c4604b7589621da4e30ec810",
       "version_major": 2,
       "version_minor": 0
      },
      "text/plain": [
       "IntSlider(value=10, max=20, min=2)"
      ]
     },
     "metadata": {},
     "output_type": "display_data"
    },
    {
     "data": {
      "application/vnd.jupyter.widget-view+json": {
       "model_id": "dbb1317aa53a4039bd04cdcf95f00db5",
       "version_major": 2,
       "version_minor": 0
      },
      "text/plain": [
       "IntSlider(value=0, max=10)"
      ]
     },
     "metadata": {},
     "output_type": "display_data"
    }
   ],
   "source": [
    "cell_size_widget = widgets.IntSlider(min=2, max=20, value=10)\n",
    "display(cell_size_widget)\n",
    "cell_border_size_widget = widgets.IntSlider(min=0, max=10, value=0)\n",
    "display(cell_border_size_widget)"
   ]
  },
  {
   "cell_type": "code",
   "execution_count": 18,
   "id": "6d2f1a22-4797-4ad3-aab9-e3cd20110862",
   "metadata": {
    "jupyter": {
     "source_hidden": true
    }
   },
   "outputs": [
    {
     "data": {
      "application/vnd.jupyter.widget-view+json": {
       "model_id": "9f74af7e8a7546399e1e241355ab0efb",
       "version_major": 2,
       "version_minor": 0
      },
      "text/plain": [
       "Dropdown(description='Starting generation options:', options=(('Simple Oszillator', 'simple_oszillator'), ('Ac…"
      ]
     },
     "metadata": {},
     "output_type": "display_data"
    }
   ],
   "source": [
    "start = widgets.Dropdown(\n",
    "    options=[('Simple Oszillator', 'simple_oszillator'), ('Acron', 'acron'), ('Gosper', 'gosper'), ('r_petonmino', 'r_petonmino')],\n",
    "    value='simple_oszillator',\n",
    "    description='Starting generation options:',\n",
    ")\n",
    "display(start)"
   ]
  },
  {
   "cell_type": "code",
   "execution_count": 29,
   "id": "60e20ca4-90ce-4ccf-9b99-7884153689d0",
   "metadata": {},
   "outputs": [],
   "source": [
    "# instantiate variables\n",
    "playground_size = (1400, 800)\n",
    "cell = {}\n",
    "grid = {}\n",
    "next_gen = {}\n",
    "x_array = []\n",
    "y_array = []\n",
    "x = y = 0\n",
    "col = row = 0\n",
    "cell_size = int(cell_size_widget.value)\n",
    "cell_border_size = int(cell_size_widget.value)-int(cell_border_size_widget.value)\n",
    "num_generations = 1000"
   ]
  },
  {
   "cell_type": "code",
   "execution_count": 30,
   "id": "43c75da3",
   "metadata": {
    "jupyter": {
     "source_hidden": true
    }
   },
   "outputs": [],
   "source": [
    "# build the initial empty grid:\n",
    "def empty_grid():\n",
    "    x = y = 0\n",
    "    for row in range(0,100):\n",
    "        #print(\"row (y): \", row)\n",
    "        for col in range(0,100):\n",
    "            cell = {\"x\":x, \"y\":y, \"size\":cell_size, \"active\":0, \"row\":row, \"col\":col}\n",
    "            #print(\"row (y): \", row, \"col (x): \", col, cell)\n",
    "            grid[(row,col)]=(cell)\n",
    "            x += cell_size\n",
    "            col += 1\n",
    "\n",
    "        x = 0\n",
    "        col = 0\n",
    "        y += cell_size\n",
    "\n",
    "    return grid"
   ]
  },
  {
   "cell_type": "code",
   "execution_count": 31,
   "id": "72374a4a-5acb-41b9-8b9e-e2bc80088355",
   "metadata": {
    "jupyter": {
     "source_hidden": true
    }
   },
   "outputs": [],
   "source": [
    "def simple_oszillator(grid):\n",
    "    # define the r-pentomino:\n",
    "    grid[(5, 1)]['active']=1\n",
    "    grid[(5, 2)]['active']=1\n",
    "    grid[(5, 3)]['active']=1\n",
    "\n",
    "    return grid"
   ]
  },
  {
   "cell_type": "code",
   "execution_count": 32,
   "id": "5d80addf",
   "metadata": {
    "jupyter": {
     "source_hidden": true
    }
   },
   "outputs": [],
   "source": [
    "def r_petonmino(grid):\n",
    "    # define the r-pentomino:\n",
    "    grid[(6, 5)]['active']=1\n",
    "    grid[(6, 6)]['active']=1\n",
    "    grid[(7, 4)]['active']=1\n",
    "    grid[(7, 5)]['active']=1\n",
    "    grid[(8, 5)]['active']=1\n",
    "\n",
    "    return grid"
   ]
  },
  {
   "cell_type": "code",
   "execution_count": 33,
   "id": "9cc6a67a",
   "metadata": {
    "jupyter": {
     "source_hidden": true
    }
   },
   "outputs": [],
   "source": [
    "def acron(grid):\n",
    "    grid[(40, 41)]['active']=1\n",
    "    grid[(41, 43)]['active']=1\n",
    "    grid[(42, 40)]['active']=1\n",
    "    grid[(42, 41)]['active']=1\n",
    "    grid[(42, 44)]['active']=1\n",
    "    grid[(42, 45)]['active']=1\n",
    "    grid[(42, 46)]['active']=1\n",
    "\n",
    "    return grid"
   ]
  },
  {
   "cell_type": "code",
   "execution_count": 34,
   "id": "85417ac3",
   "metadata": {
    "jupyter": {
     "source_hidden": true
    }
   },
   "outputs": [],
   "source": [
    "def gosper(grid):\n",
    "    grid[(28, 73)]['active']=1\n",
    "    grid[(29, 71)]['active']=1\n",
    "    grid[(29, 73)]['active']=1\n",
    "    grid[(30, 61)]['active']=1\n",
    "    grid[(30, 62)]['active']=1\n",
    "    grid[(30, 69)]['active']=1\n",
    "    grid[(30, 70)]['active']=1\n",
    "    grid[(30, 83)]['active']=1\n",
    "    grid[(30, 84)]['active']=1\n",
    "    grid[(31, 60)]['active']=1\n",
    "    grid[(31, 64)]['active']=1\n",
    "    grid[(31, 69)]['active']=1\n",
    "    grid[(31, 70)]['active']=1\n",
    "    grid[(31, 83)]['active']=1\n",
    "    grid[(31, 84)]['active']=1\n",
    "    grid[(32, 49)]['active']=1\n",
    "    grid[(32, 50)]['active']=1\n",
    "    grid[(32, 59)]['active']=1\n",
    "    grid[(32, 65)]['active']=1\n",
    "    grid[(32, 69)]['active']=1\n",
    "    grid[(32, 70)]['active']=1\n",
    "    grid[(33, 49)]['active']=1\n",
    "    grid[(33, 50)]['active']=1\n",
    "    grid[(33, 59)]['active']=1\n",
    "    grid[(33, 63)]['active']=1\n",
    "    grid[(33, 65)]['active']=1\n",
    "    grid[(33, 66)]['active']=1\n",
    "    grid[(33, 71)]['active']=1\n",
    "    grid[(33, 73)]['active']=1\n",
    "    grid[(34, 59)]['active']=1\n",
    "    grid[(34, 65)]['active']=1\n",
    "    grid[(34, 73)]['active']=1\n",
    "    grid[(35, 60)]['active']=1\n",
    "    grid[(35, 64)]['active']=1\n",
    "    grid[(36, 61)]['active']=1\n",
    "    grid[(36, 62)]['active']=1\n",
    "\n",
    "    return grid"
   ]
  },
  {
   "cell_type": "code",
   "execution_count": 35,
   "id": "ade501d5-a52b-4606-8c4e-934aa38e86e2",
   "metadata": {
    "jupyter": {
     "source_hidden": true
    }
   },
   "outputs": [],
   "source": [
    "inital_grid = empty_grid()\n",
    "\n",
    "if start.value == 'simple_oszillator':\n",
    "    grid = simple_oszillator(inital_grid)\n",
    "elif start.value == 'acron':\n",
    "    grid = acron(inital_grid)\n",
    "elif start.value == 'gosper':\n",
    "    grid = gosper(inital_grid)\n",
    "elif start.value == 'r_petonmino':\n",
    "    grid = r_petonmino(inital_grid)\n",
    "\n",
    "# before the first run, copy the initial grid to the next generation dictionary:\n",
    "next_gen = copy.deepcopy(grid)"
   ]
  },
  {
   "cell_type": "code",
   "execution_count": null,
   "id": "eed55f6d-2dd5-4584-8fe2-37eebaaaa79a",
   "metadata": {},
   "outputs": [],
   "source": []
  },
  {
   "cell_type": "markdown",
   "id": "7700f7e7-c95b-46ef-9a66-c985ba693cad",
   "metadata": {},
   "source": [
    "### Functions for implementation in a loop:"
   ]
  },
  {
   "cell_type": "code",
   "execution_count": 36,
   "id": "5f75331e-bf5d-44ee-a797-576da36b560b",
   "metadata": {},
   "outputs": [],
   "source": [
    "def next_population(grid):\n",
    "    # create a copy of the current state of the grid in order not to overwrite the status when moving over the cells:\n",
    "\n",
    "    for cell in grid.keys():\n",
    "        # get the x and y postion of the active cell:\n",
    "        x_pos = cell[0]\n",
    "        y_pos = cell[1]\n",
    "    \n",
    "        nw = grid.get((x_pos-1,y_pos-1),{}).get('active') or 0\n",
    "        n = grid.get((x_pos,y_pos-1),{}).get('active') or 0\n",
    "        ne = grid.get((x_pos+1,y_pos-1),{}).get('active') or 0\n",
    "        w = grid.get((x_pos-1,y_pos),{}).get('active') or 0\n",
    "        e = grid.get((x_pos+1,y_pos),{}).get('active') or 0\n",
    "        sw = grid.get((x_pos-1,y_pos+1),{}).get('active') or 0\n",
    "        s = grid.get((x_pos,y_pos+1),{}).get('active') or 0\n",
    "        se = grid.get((x_pos+1,y_pos+1),{}).get('active') or 0\n",
    "    \n",
    "        res = nw + n + ne + w + e + sw + s + se\n",
    "        #print(\"cell: \", x_pos, y_pos, \"active: \", grid.get((x_pos,y_pos),{}).get('active'), \"nw=\", nw, \"n=\", n, \"ne=\", ne, \"w=\", w, \"e=\", e, \"sw=\", sw, \"s=\", s, \"se=\", se, \" result: \", res)\n",
    "            \n",
    "        if grid.get((x_pos,y_pos),{}).get('active') == 1 and res < 2:\n",
    "            next_gen[(x_pos,y_pos)]['active']=0\n",
    "            #print(\"result for the cell at position {} = {} the cell dies by underpopulation {}\".format(cell, res, next_gen[(x_pos,y_pos)]))\n",
    "        elif grid.get((x_pos,y_pos),{}).get('active') == 1 and (res == 2 or res == 3):\n",
    "            next_gen[(x_pos,y_pos)] = grid[cell]\n",
    "            #print(\"result for the cell at position {} = {} the cell lives on {}\".format(cell, res, next_gen[(x_pos,y_pos)]))\n",
    "        elif grid.get((x_pos,y_pos),{}).get('active') == 1 and res > 3:\n",
    "            next_gen[(x_pos,y_pos)]['active']=0\n",
    "            #print(\"result for the cell at position {} = {} the cell dies by overpopulation {}\".format(cell, res, next_gen[(x_pos,y_pos)]))\n",
    "        elif grid.get((x_pos,y_pos),{}).get('active') == 0 and res == 3:\n",
    "            next_gen[(x_pos,y_pos)]['active']=1\n",
    "            #print(\"result for the cell at position {} = {} the cell becomes a live cell {}\".format(cell, res, next_gen[(x_pos,y_pos)]))\n",
    "        \n",
    "        #print(x_pos, y_pos, res, grid[cell])\n",
    "            \n",
    "    return next_gen\n",
    "    #grid = copy.deepcopy(next_gen)"
   ]
  },
  {
   "cell_type": "code",
   "execution_count": 37,
   "id": "d4d71dbd-6800-4cda-9374-d3b6e7832ea5",
   "metadata": {},
   "outputs": [],
   "source": [
    "def get_active_cells(grid):\n",
    "    x_array = []\n",
    "    y_array = []\n",
    "\n",
    "    for cell, cell_info in grid.items():\n",
    "        x_pos, y_pos = cell\n",
    "        if cell_info.get('active') == 1:\n",
    "            x_array.append(cell_info.get('x'))\n",
    "            y_array.append(cell_info.get('y'))\n",
    "\n",
    "    return x_array, y_array"
   ]
  },
  {
   "cell_type": "markdown",
   "id": "fbca0780-3794-4883-a044-b4f66f29c8b6",
   "metadata": {},
   "source": [
    "### Loop to draw the Canvas:"
   ]
  },
  {
   "cell_type": "code",
   "execution_count": 38,
   "id": "74797529-1ac6-4729-b8be-67ca2e9dd04d",
   "metadata": {},
   "outputs": [
    {
     "data": {
      "application/vnd.jupyter.widget-view+json": {
       "model_id": "b0c04436cd7f449fa5a99479f3a2ea10",
       "version_major": 2,
       "version_minor": 0
      },
      "text/plain": [
       "Canvas(height=800, width=1400)"
      ]
     },
     "metadata": {},
     "output_type": "display_data"
    }
   ],
   "source": [
    "canvas = Canvas(width=playground_size[0], height=playground_size[1])\n",
    "display(canvas)\n",
    "\n",
    "# Number of steps in your animation\n",
    "steps_number = num_generations\n",
    "\n",
    "for i in range(steps_number):\n",
    "    with hold_canvas():\n",
    "        # Clear the old animation step\n",
    "        canvas.clear()\n",
    "\n",
    "        # draw the step on the Canvas:\n",
    "        canvas.font = \"16px serif\"\n",
    "        text = \"population: \"+str(i)\n",
    "        canvas.fill_text(text, 10, 32)\n",
    "\n",
    "        # calculate the next population: \n",
    "        next_gen = next_population(grid)\n",
    "\n",
    "        # get the x and y arrays: \n",
    "        arrays = get_active_cells(grid)\n",
    "\n",
    "        # Perfom all your drawings here\n",
    "        canvas.fill_rects(arrays[0], arrays[1], cell_border_size, height=None)\n",
    "\n",
    "        # copy the result of the next generation to the \n",
    "        grid = copy.deepcopy(next_gen)\n",
    "        \n",
    "    # Animation frequency ~50Hz = 1./50. seconds\n",
    "    #sleep(0.001)\n",
    "    canvas.sleep(5)"
   ]
  },
  {
   "cell_type": "markdown",
   "id": "b322c1ba-b0ad-4831-8a49-a993cfddb99a",
   "metadata": {},
   "source": [
    "### Cells for testing and Debugging:"
   ]
  },
  {
   "cell_type": "code",
   "execution_count": null,
   "id": "4a197534-9c5f-41d4-81d4-ce1ebd3c515d",
   "metadata": {},
   "outputs": [],
   "source": [
    "# build the initial population:\n",
    "#grid[(1,1)] = {'x': 10, 'y': 10, 'size': 10, 'active': 1, 'row': 1, 'col': 1}\n",
    "#grid[(0, 0)]={'x': 0, 'y': 0, 'size': 10, 'active': 0, 'row': 0, 'col': 0}\n",
    "\n",
    "# define an oszillator:\n",
    "#grid[(1, 1)]={'x': 10, 'y': 10, 'size': 9, 'active': 1, 'row': 1, 'col': 1}\n",
    "#grid[(1, 1)]['active']=1\n",
    "#grid[(1, 2)]['active']=1\n",
    "#grid[(1, 3)]['active']=1"
   ]
  },
  {
   "cell_type": "code",
   "execution_count": null,
   "id": "68ef2252-22d9-454f-ad81-cc6e23c5c670",
   "metadata": {},
   "outputs": [],
   "source": [
    "# create a copy of the current state of the grid in order not to overwrite the status when moving over the cells:\n",
    "\n",
    "for cell in grid.keys():\n",
    "    # get the x and y postion of the active cell:\n",
    "    x_pos = cell[0]\n",
    "    y_pos = cell[1]\n",
    "\n",
    "    nw = grid.get((x_pos-1,y_pos-1),{}).get('active') or 0\n",
    "    n = grid.get((x_pos,y_pos-1),{}).get('active') or 0\n",
    "    ne = grid.get((x_pos+1,y_pos-1),{}).get('active') or 0\n",
    "    w = grid.get((x_pos-1,y_pos),{}).get('active') or 0\n",
    "    e = grid.get((x_pos+1,y_pos),{}).get('active') or 0\n",
    "    sw = grid.get((x_pos-1,y_pos+1),{}).get('active') or 0\n",
    "    s = grid.get((x_pos,y_pos+1),{}).get('active') or 0\n",
    "    se = grid.get((x_pos+1,y_pos+1),{}).get('active') or 0\n",
    "\n",
    "    res = nw + n + ne + w + e + sw + s + se\n",
    "    #print(\"cell: \", x_pos, y_pos, \"active: \", grid.get((x_pos,y_pos),{}).get('active'), \"nw=\", nw, \"n=\", n, \"ne=\", ne, \"w=\", w, \"e=\", e, \"sw=\", sw, \"s=\", s, \"se=\", se, \" result: \", res)\n",
    "        \n",
    "    if grid.get((x_pos,y_pos),{}).get('active') == 1 and res < 2:\n",
    "        next_gen[(x_pos,y_pos)]['active']=0\n",
    "        #print(\"result for the cell at position {} = {} the cell dies by underpopulation {}\".format(cell, res, next_gen[(x_pos,y_pos)]))\n",
    "    elif grid.get((x_pos,y_pos),{}).get('active') == 1 and (res == 2 or res == 3):\n",
    "        next_gen[(x_pos,y_pos)] = grid[cell]\n",
    "        #print(\"result for the cell at position {} = {} the cell lives on {}\".format(cell, res, next_gen[(x_pos,y_pos)]))\n",
    "    elif grid.get((x_pos,y_pos),{}).get('active') == 1 and res > 3:\n",
    "        next_gen[(x_pos,y_pos)]['active']=0\n",
    "        #print(\"result for the cell at position {} = {} the cell dies by overpopulation {}\".format(cell, res, next_gen[(x_pos,y_pos)]))\n",
    "    elif grid.get((x_pos,y_pos),{}).get('active') == 0 and res == 3:\n",
    "        next_gen[(x_pos,y_pos)]['active']=1\n",
    "        #print(\"result for the cell at position {} = {} the cell becomes a live cell {}\".format(cell, res, next_gen[(x_pos,y_pos)]))\n",
    "    \n",
    "    #print(x_pos, y_pos, res, grid[cell])\n",
    "\n",
    "grid = copy.deepcopy(next_gen)\n"
   ]
  },
  {
   "cell_type": "code",
   "execution_count": null,
   "id": "a4a06983-3af2-4eab-ab95-46138bd3f282",
   "metadata": {},
   "outputs": [],
   "source": [
    "#grid = copy.deepcopy(next_gen)"
   ]
  },
  {
   "cell_type": "code",
   "execution_count": null,
   "id": "387082fd-40e2-4bc9-9243-c43a9aa18d5d",
   "metadata": {},
   "outputs": [],
   "source": [
    "#next_gen"
   ]
  },
  {
   "cell_type": "code",
   "execution_count": null,
   "id": "52b1b34a-406e-4a80-bee7-4de294fb07a2",
   "metadata": {},
   "outputs": [],
   "source": [
    "x_array = []\n",
    "y_array = []\n",
    "\n",
    "for cell in grid.keys():\n",
    "    #print(cell, grid[cell])\n",
    "    # get the x and y postion of the active cell:\n",
    "    x_pos = cell[0]\n",
    "    y_pos = cell[1]\n",
    "\n",
    "    if grid.get((x_pos,y_pos),{}).get('active'):\n",
    "        x_array.append(grid.get((x_pos,y_pos),{}).get('x'))\n",
    "        y_array.append(grid.get((x_pos,y_pos),{}).get('y'))"
   ]
  },
  {
   "cell_type": "code",
   "execution_count": null,
   "id": "a59019ba-2280-4dbd-8e8c-a0907a558f29",
   "metadata": {},
   "outputs": [],
   "source": [
    "canvas = Canvas(width=500, height=800)\n",
    "\n",
    "#canvas.fill_rect(25, 25, 10)\n",
    "canvas.fill_rects(x_array, y_array, 9, height=None)\n",
    "\n",
    "canvas"
   ]
  },
  {
   "cell_type": "code",
   "execution_count": null,
   "id": "f4af1cb9-7635-4ba4-b1a1-a6cad512848e",
   "metadata": {},
   "outputs": [],
   "source": []
  }
 ],
 "metadata": {
  "kernelspec": {
   "display_name": "Python 3 (ipykernel)",
   "language": "python",
   "name": "python3"
  },
  "language_info": {
   "codemirror_mode": {
    "name": "ipython",
    "version": 3
   },
   "file_extension": ".py",
   "mimetype": "text/x-python",
   "name": "python",
   "nbconvert_exporter": "python",
   "pygments_lexer": "ipython3",
   "version": "3.9.18"
  }
 },
 "nbformat": 4,
 "nbformat_minor": 5
}
